{
 "cells": [
  {
   "cell_type": "markdown",
   "metadata": {},
   "source": [
    "# CMS Bilingual Needs and Bilingual Pay (BNBP)\n",
    "CMS uses census data to examine the county-by-county distribution of Low English Proficency citizens. This script automates the process of obtaining that census data.\n",
    "\n",
    "You can download any data that is available in American Fact Finder. Use their search tool to find the table, and note the name. Then, go to api.census.gov, and navigate to the available APIs. Choose the correct vintage of the survey, and click on the html version of your desired year, under the 'Detailed Tables' section. Once it loads (quite large!), you can Ctrl+F to find the table name. All of the data feeds that make that table will be grouped under that name. Check out the ACS Table IDs explained page to figure out where the variables get their names."
   ]
  },
  {
   "cell_type": "code",
   "execution_count": 1,
   "metadata": {
    "collapsed": true
   },
   "outputs": [],
   "source": [
    "## Import\n",
    "from census import Census\n",
    "from us import states\n",
    "import pandas as pd\n",
    "import os"
   ]
  },
  {
   "cell_type": "code",
   "execution_count": 2,
   "metadata": {
    "collapsed": true
   },
   "outputs": [],
   "source": [
    "## Select Year\n",
    "yr = 2016"
   ]
  },
  {
   "cell_type": "code",
   "execution_count": 3,
   "metadata": {
    "collapsed": true
   },
   "outputs": [],
   "source": [
    "## Set Up Census Key\n",
    "c = Census(\"7626c35db5ebda42db3c3b7d0b59939b2489cbd7\", year = yr)"
   ]
  },
  {
   "cell_type": "markdown",
   "metadata": {},
   "source": [
    "# Language Spoken Data"
   ]
  },
  {
   "cell_type": "code",
   "execution_count": 9,
   "metadata": {},
   "outputs": [],
   "source": [
    "# Gather total population age 5 and up\n",
    "total_pop_5up = c.acs5.state_county(('NAME', 'B16004_001E'), states.IL.fips, \"*\")\n",
    "total_pop_5up_pd = pd.DataFrame(total_pop_5up)\n",
    "total_pop_5up_pd.rename(columns={'B16004_001E':'Total_5andUp'}, \n",
    "                 inplace=True)"
   ]
  },
  {
   "cell_type": "code",
   "execution_count": 17,
   "metadata": {},
   "outputs": [],
   "source": [
    "# Calculate Number of Spanish Language Speakers 5 and up\n",
    "spanish_all = c.acs5.state_county(('NAME', 'B16004_004E', 'B16004_026E', 'B16004_048E'), states.IL.fips, \"*\")\n",
    "spanish_all_pd = pd.DataFrame(spanish_all)\n",
    "spanish_all_pd.rename(columns={'B16004_004E':'Spanish_5_17', 'B16004_026E':'Spanish_18_64', 'B16004_048E':'Spanish_65' }, \n",
    "                 inplace=True)\n",
    "spanish_all_pd['Spanish_Speakers'] = spanish_all_pd['Spanish_5_17'] + spanish_all_pd['Spanish_18_64'] + spanish_all_pd['Spanish_65']"
   ]
  },
  {
   "cell_type": "code",
   "execution_count": 19,
   "metadata": {},
   "outputs": [],
   "source": [
    "# Calculate Number of English Only Speakers 5 and up\n",
    "english_all = c.acs5.state_county(('NAME', 'B16004_003E', 'B16004_025E', 'B16004_047E'), states.IL.fips, \"*\")\n",
    "english_all_pd = pd.DataFrame(english_all)\n",
    "english_all_pd.rename(columns={'B16004_003E':'English_5_17', 'B16004_025E':'English_18_64', 'B16004_047E':'English_65' }, \n",
    "                 inplace=True)\n",
    "english_all_pd['English_Speakers'] = english_all_pd['English_5_17'] + english_all_pd['English_18_64'] + english_all_pd['English_65']"
   ]
  },
  {
   "cell_type": "code",
   "execution_count": 23,
   "metadata": {},
   "outputs": [],
   "source": [
    "# Calculate Number of Other Indo-European Language Speakers 5 and up\n",
    "IndoEuro_all = c.acs5.state_county(('NAME', 'B16004_009E', 'B16004_031E', 'B16004_053E'), states.IL.fips, \"*\")\n",
    "IndoEuro_all_pd = pd.DataFrame(IndoEuro_all)\n",
    "IndoEuro_all_pd.rename(columns={'B16004_009E':'IndoEuro_5_17', 'B16004_031E':'IndoEuro_18_64', 'B16004_053E':'IndoEuro_65' }, \n",
    "                 inplace=True)\n",
    "IndoEuro_all_pd['IndoEuro_Speakers'] = IndoEuro_all_pd['IndoEuro_5_17'] + IndoEuro_all_pd['IndoEuro_18_64'] + IndoEuro_all_pd['IndoEuro_65']"
   ]
  },
  {
   "cell_type": "code",
   "execution_count": 28,
   "metadata": {},
   "outputs": [],
   "source": [
    "# Calculate Number of Other Asian and Pacific Island Language Speakers 5 and up\n",
    "api_all = c.acs5.state_county(('NAME', 'B16004_014E', 'B16004_036E', 'B16004_058E'), states.IL.fips, \"*\")\n",
    "api_all_pd = pd.DataFrame(api_all)\n",
    "api_all_pd.rename(columns={'B16004_014E':'APIlang_5_17', 'B16004_036E':'APIlang_18_64', 'B16004_058E':'APIlang_65' }, \n",
    "                 inplace=True)\n",
    "api_all_pd['APIlang_Speakers'] = api_all_pd['APIlang_5_17'] + api_all_pd['APIlang_18_64'] + api_all_pd['APIlang_65']"
   ]
  },
  {
   "cell_type": "code",
   "execution_count": 32,
   "metadata": {},
   "outputs": [],
   "source": [
    "# Calculate Number of Other Speakers 5 and up\n",
    "other_all = c.acs5.state_county(('NAME', 'B16004_019E', 'B16004_041E', 'B16004_063E'), states.IL.fips, \"*\")\n",
    "other_all_pd = pd.DataFrame(other_all)\n",
    "other_all_pd.rename(columns={'B16004_019E':'Other_5_17', 'B16004_041E':'Other_18_64', 'B16004_063E':'Other_65' }, \n",
    "                 inplace=True)\n",
    "other_all_pd['Other_Speakers'] = other_all_pd['Other_5_17'] + other_all_pd['Other_18_64'] + other_all_pd['Other_65']"
   ]
  },
  {
   "cell_type": "markdown",
   "metadata": {},
   "source": [
    "# LEP Data"
   ]
  },
  {
   "cell_type": "code",
   "execution_count": null,
   "metadata": {},
   "outputs": [],
   "source": []
  },
  {
   "cell_type": "code",
   "execution_count": null,
   "metadata": {},
   "outputs": [],
   "source": []
  },
  {
   "cell_type": "code",
   "execution_count": null,
   "metadata": {},
   "outputs": [],
   "source": []
  },
  {
   "cell_type": "code",
   "execution_count": null,
   "metadata": {},
   "outputs": [],
   "source": []
  },
  {
   "cell_type": "code",
   "execution_count": null,
   "metadata": {},
   "outputs": [],
   "source": []
  },
  {
   "cell_type": "code",
   "execution_count": null,
   "metadata": {},
   "outputs": [],
   "source": []
  },
  {
   "cell_type": "code",
   "execution_count": null,
   "metadata": {},
   "outputs": [],
   "source": []
  },
  {
   "cell_type": "code",
   "execution_count": null,
   "metadata": {},
   "outputs": [],
   "source": []
  },
  {
   "cell_type": "code",
   "execution_count": null,
   "metadata": {},
   "outputs": [],
   "source": []
  }
 ],
 "metadata": {
  "kernelspec": {
   "display_name": "Python 3",
   "language": "python",
   "name": "python3"
  },
  "language_info": {
   "codemirror_mode": {
    "name": "ipython",
    "version": 3
   },
   "file_extension": ".py",
   "mimetype": "text/x-python",
   "name": "python",
   "nbconvert_exporter": "python",
   "pygments_lexer": "ipython3",
   "version": "3.6.7"
  }
 },
 "nbformat": 4,
 "nbformat_minor": 2
}
