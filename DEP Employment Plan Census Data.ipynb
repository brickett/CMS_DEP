{
 "cells": [
  {
   "cell_type": "code",
   "execution_count": null,
   "metadata": {},
   "outputs": [],
   "source": []
  },
  {
   "cell_type": "code",
   "execution_count": 2,
   "metadata": {},
   "outputs": [],
   "source": [
    "## Import\n",
    "from census import Census\n",
    "from us import states\n",
    "import pandas as pd"
   ]
  },
  {
   "cell_type": "code",
   "execution_count": 15,
   "metadata": {},
   "outputs": [],
   "source": [
    "## Set Up Census Key\n",
    "c = Census(\"7626c35db5ebda42db3c3b7d0b59939b2489cbd7\", year = 2016)"
   ]
  },
  {
   "cell_type": "code",
   "execution_count": 19,
   "metadata": {},
   "outputs": [],
   "source": [
    "# Calculate white labor force\n",
    "labor_force_white = c.acs5.state_county(('NAME', 'C23002A_004E', 'C23002A_011E', 'C23002A_017E', 'C23002A_024E' ), states.IL.fips, \"*\")\n",
    "labor_force_white_pd = pd.DataFrame(labor_force_white)\n",
    "labor_force_white_pd.rename(columns={'C23002A_004E':'Male_16','C23002A_011E':'Male_64','C23002A_017E':'Female_16','C23002A_024E':'Female_64'}, \n",
    "                 inplace=True)\n",
    "labor_force_white_pd['LF_White'] = labor_force_white_pd['Male_16'] + labor_force_white_pd['Male_64'] + labor_force_white_pd['Female_16'] + labor_force_white_pd['Female_64']"
   ]
  },
  {
   "cell_type": "code",
   "execution_count": 22,
   "metadata": {},
   "outputs": [],
   "source": [
    "# Calculate Black/AA labor force\n",
    "labor_force_black = c.acs5.state_county(('NAME', 'C23002B_004E', 'C23002B_011E', 'C23002B_017E', 'C23002B_024E' ), states.IL.fips, \"*\")\n",
    "labor_force_black_pd = pd.DataFrame(labor_force_black)\n",
    "labor_force_black_pd.rename(columns={'C23002B_004E':'Male_16','C23002B_011E':'Male_64','C23002B_017E':'Female_16','C23002B_024E':'Female_64'}, \n",
    "                 inplace=True)\n",
    "labor_force_black_pd['LF_Black'] = labor_force_black_pd['Male_16'] + labor_force_black_pd['Male_64'] + labor_force_black_pd['Female_16'] + labor_force_black_pd['Female_64']"
   ]
  },
  {
   "cell_type": "code",
   "execution_count": 24,
   "metadata": {},
   "outputs": [],
   "source": [
    "# Calculate native american labor force\n",
    "labor_force_na = c.acs5.state_county(('NAME', 'C23002C_004E', 'C23002C_011E', 'C23002C_017E', 'C23002C_024E' ), states.IL.fips, \"*\")\n",
    "labor_force_na_pd = pd.DataFrame(labor_force_na)\n",
    "labor_force_na_pd.rename(columns={'C23002C_004E':'Male_16','C23002C_011E':'Male_64','C23002C_017E':'Female_16','C23002C_024E':'Female_64'}, \n",
    "                 inplace=True)\n",
    "labor_force_na_pd['LF_NA'] = labor_force_na_pd['Male_16'] + labor_force_na_pd['Male_64'] + labor_force_na_pd['Female_16'] + labor_force_na_pd['Female_64']"
   ]
  },
  {
   "cell_type": "code",
   "execution_count": 36,
   "metadata": {},
   "outputs": [],
   "source": [
    "# Calculate API labor force\n",
    "labor_force_api = c.acs5.state_county(('NAME', 'C23002D_004E', 'C23002D_011E', 'C23002D_017E', 'C23002D_024E','C23002E_004E', 'C23002E_011E', 'C23002E_017E', 'C23002E_024E'), states.IL.fips, \"*\")\n",
    "labor_force_api_pd = pd.DataFrame(labor_force_api)\n",
    "labor_force_api_pd.rename(columns={'C23002D_004E':'Male_A_16','C23002D_011E':'Male_A_64','C23002D_017E':'Female_A_16','C23002D_024E':'Female_A_64','C23002E_004E':'Male_PI_16','C23002E_011E':'Male_PI_64','C23002E_017E':'Female_PI_16','C23002E_024E':'Female_PI_64'}, inplace=True)\n",
    "labor_force_api_pd['LF_API'] = labor_force_api_pd['Male_A_16'] + labor_force_api_pd['Male_A_64'] + labor_force_api_pd['Female_A_16'] + labor_force_api_pd['Female_A_64'] + labor_force_api_pd['Male_PI_16'] + labor_force_api_pd['Male_PI_64'] + labor_force_api_pd['Female_PI_16'] + labor_force_api_pd['Female_PI_64']"
   ]
  },
  {
   "cell_type": "code",
   "execution_count": 38,
   "metadata": {},
   "outputs": [],
   "source": [
    "# Calculate Other labor force\n",
    "labor_force_other = c.acs5.state_county(('NAME', 'C23002F_004E', 'C23002F_011E', 'C23002F_017E', 'C23002F_024E' ), states.IL.fips, \"*\")\n",
    "labor_force_other_pd = pd.DataFrame(labor_force_other)\n",
    "labor_force_other_pd.rename(columns={'C23002F_004E':'Male_16','C23002F_011E':'Male_64','C23002F_017E':'Female_16','C23002F_024E':'Female_64'}, \n",
    "                 inplace=True)\n",
    "labor_force_other_pd['LF_Other'] = labor_force_other_pd['Male_16'] + labor_force_other_pd['Male_64'] + labor_force_other_pd['Female_16'] + labor_force_other_pd['Female_64']"
   ]
  },
  {
   "cell_type": "code",
   "execution_count": 44,
   "metadata": {},
   "outputs": [],
   "source": [
    "# Calculate two or more labor force\n",
    "labor_force_2 = c.acs5.state_county(('NAME', 'C23002G_004E', 'C23002G_011E', 'C23002G_017E', 'C23002G_024E' ), states.IL.fips, \"*\")\n",
    "labor_force_2_pd = pd.DataFrame(labor_force_2)\n",
    "labor_force_2_pd.rename(columns={'C23002G_004E':'Male_16','C23002G_011E':'Male_64','C23002G_017E':'Female_16','C23002G_024E':'Female_64'}, \n",
    "                 inplace=True)\n",
    "labor_force_2_pd['LF_2'] = labor_force_2_pd['Male_16'] + labor_force_2_pd['Male_64'] + labor_force_2_pd['Female_16'] + labor_force_2_pd['Female_64']"
   ]
  },
  {
   "cell_type": "code",
   "execution_count": 41,
   "metadata": {},
   "outputs": [],
   "source": [
    "# Calculate Hispanic labor force\n",
    "labor_force_hispanic = c.acs5.state_county(('NAME', 'C23002I_004E', 'C23002I_011E', 'C23002I_017E', 'C23002I_024E' ), states.IL.fips, \"*\")\n",
    "labor_force_hispanic_pd = pd.DataFrame(labor_force_hispanic)\n",
    "labor_force_hispanic_pd.rename(columns={'C23002I_004E':'Male_16','C23002I_011E':'Male_64','C23002I_017E':'Female_16','C23002I_024E':'Female_64'}, \n",
    "                 inplace=True)\n",
    "labor_force_hispanic_pd['LF_Hispanic'] = labor_force_hispanic_pd['Male_16'] + labor_force_hispanic_pd['Male_64'] + labor_force_hispanic_pd['Female_16'] + labor_force_hispanic_pd['Female_64']"
   ]
  },
  {
   "cell_type": "code",
   "execution_count": null,
   "metadata": {},
   "outputs": [],
   "source": []
  }
 ],
 "metadata": {
  "kernelspec": {
   "display_name": "Python 3",
   "language": "python",
   "name": "python3"
  },
  "language_info": {
   "codemirror_mode": {
    "name": "ipython",
    "version": 3
   },
   "file_extension": ".py",
   "mimetype": "text/x-python",
   "name": "python",
   "nbconvert_exporter": "python",
   "pygments_lexer": "ipython3",
   "version": "3.6.7"
  }
 },
 "nbformat": 4,
 "nbformat_minor": 2
}
